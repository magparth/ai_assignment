{
 "cells": [
  {
   "cell_type": "markdown",
   "id": "5493438e",
   "metadata": {},
   "source": []
  },
  {
   "cell_type": "code",
   "execution_count": null,
   "id": "e68f0c61",
   "metadata": {},
   "outputs": [],
   "source": [
    "import json\n",
    "import pandas as pd\n",
    "\n",
    "def load_transaction_type(files, tx_type):\n",
    "    dfs = []\n",
    "    for file in files:\n",
    "        with open(file) as f:\n",
    "            data = json.load(f)\n",
    "        if tx_type in data:\n",
    "            dfs.append(pd.json_normalize(data[tx_type]))\n",
    "    return pd.concat(dfs, ignore_index=True)\n",
    "\n",
    "files = [\"compoundV2_transactions_ethereum_chunk_2.json\", \"compoundV2_transactions_ethereum_chunk_0.json\", \"compoundV2_transactions_ethereum_chunk_3.json\"]\n",
    "\n",
    "# Load each transaction type\n",
    "df_deposits = load_transaction_type(files, \"deposits\")\n",
    "df_borrows = load_transaction_type(files, \"borrows\")\n",
    "df_repays = load_transaction_type(files, \"repays\")\n",
    "df_withdraws = load_transaction_type(files, \"withdraws\")\n",
    "df_liquidations = load_transaction_type(files, \"liquidations\")\n"
   ]
  }
 ],
 "metadata": {
  "language_info": {
   "name": "python"
  }
 },
 "nbformat": 4,
 "nbformat_minor": 5
}
