{
 "cells": [
  {
   "cell_type": "markdown",
   "id": "5493438e",
   "metadata": {},
   "source": [
    "Load All JSON Files"
   ]
  },
  {
   "cell_type": "code",
   "execution_count": 6,
   "id": "e68f0c61",
   "metadata": {},
   "outputs": [],
   "source": [
    "import json\n",
    "import pandas as pd\n",
    "\n",
    "def load_transaction_type(files, tx_type):\n",
    "    dfs = []\n",
    "    for file in files:\n",
    "        with open(file) as f:\n",
    "            data = json.load(f)\n",
    "        if tx_type in data:\n",
    "            dfs.append(pd.json_normalize(data[tx_type]))\n",
    "    return pd.concat(dfs, ignore_index=True)\n",
    "\n",
    "files = [\"compoundV2_transactions_ethereum_chunk_2.json\", \"compoundV2_transactions_ethereum_chunk_0.json\", \"compoundV2_transactions_ethereum_chunk_1.json\"]\n",
    "\n",
    "# Load each transaction type\n",
    "df_deposits = load_transaction_type(files, \"deposits\")\n",
    "df_borrows = load_transaction_type(files, \"borrows\")\n",
    "df_repays = load_transaction_type(files, \"repays\")\n",
    "df_withdraws = load_transaction_type(files, \"withdraws\")\n",
    "df_liquidates = load_transaction_type(files, \"liquidates\")\n"
   ]
  },
  {
   "cell_type": "markdown",
   "id": "668210ab",
   "metadata": {},
   "source": [
    "Preprocessing and Renaming Columns"
   ]
  },
  {
   "cell_type": "code",
   "execution_count": 7,
   "id": "fb836012",
   "metadata": {},
   "outputs": [
    {
     "name": "stderr",
     "output_type": "stream",
     "text": [
      "C:\\Users\\parth\\AppData\\Local\\Temp\\ipykernel_6352\\1432019178.py:7: FutureWarning: The behavior of 'to_datetime' with 'unit' when parsing strings is deprecated. In a future version, strings will be parsed as datetime strings, matching the behavior without a 'unit'. To retain the old behavior, explicitly cast ints or floats to numeric type before calling to_datetime.\n",
      "  df[\"timestamp\"] = pd.to_datetime(df[\"timestamp\"], unit=\"s\", errors='coerce')\n",
      "C:\\Users\\parth\\AppData\\Local\\Temp\\ipykernel_6352\\1432019178.py:7: FutureWarning: The behavior of 'to_datetime' with 'unit' when parsing strings is deprecated. In a future version, strings will be parsed as datetime strings, matching the behavior without a 'unit'. To retain the old behavior, explicitly cast ints or floats to numeric type before calling to_datetime.\n",
      "  df[\"timestamp\"] = pd.to_datetime(df[\"timestamp\"], unit=\"s\", errors='coerce')\n",
      "C:\\Users\\parth\\AppData\\Local\\Temp\\ipykernel_6352\\1432019178.py:7: FutureWarning: The behavior of 'to_datetime' with 'unit' when parsing strings is deprecated. In a future version, strings will be parsed as datetime strings, matching the behavior without a 'unit'. To retain the old behavior, explicitly cast ints or floats to numeric type before calling to_datetime.\n",
      "  df[\"timestamp\"] = pd.to_datetime(df[\"timestamp\"], unit=\"s\", errors='coerce')\n",
      "C:\\Users\\parth\\AppData\\Local\\Temp\\ipykernel_6352\\1432019178.py:7: FutureWarning: The behavior of 'to_datetime' with 'unit' when parsing strings is deprecated. In a future version, strings will be parsed as datetime strings, matching the behavior without a 'unit'. To retain the old behavior, explicitly cast ints or floats to numeric type before calling to_datetime.\n",
      "  df[\"timestamp\"] = pd.to_datetime(df[\"timestamp\"], unit=\"s\", errors='coerce')\n",
      "C:\\Users\\parth\\AppData\\Local\\Temp\\ipykernel_6352\\1432019178.py:7: FutureWarning: The behavior of 'to_datetime' with 'unit' when parsing strings is deprecated. In a future version, strings will be parsed as datetime strings, matching the behavior without a 'unit'. To retain the old behavior, explicitly cast ints or floats to numeric type before calling to_datetime.\n",
      "  df[\"timestamp\"] = pd.to_datetime(df[\"timestamp\"], unit=\"s\", errors='coerce')\n"
     ]
    }
   ],
   "source": [
    "def clean_df(df, action, wallet_field=\"account.id\"):\n",
    "    df = df.rename(columns={\n",
    "        wallet_field: \"wallet\",\n",
    "        \"amountUSD\": f\"{action}_usd\",\n",
    "        \"timestamp\": \"timestamp\"\n",
    "    })\n",
    "    df[\"timestamp\"] = pd.to_datetime(df[\"timestamp\"], unit=\"s\", errors='coerce')\n",
    "    df[f\"{action}_usd\"] = pd.to_numeric(df[f\"{action}_usd\"], errors=\"coerce\")\n",
    "    return df[[\"wallet\", f\"{action}_usd\", \"timestamp\"]].dropna()\n",
    "\n",
    "\n",
    "df_deposits = clean_df(df_deposits, \"deposit\")\n",
    "df_borrows = clean_df(df_borrows, \"borrow\")\n",
    "df_repays = clean_df(df_repays, \"repay\")\n",
    "df_withdraws = clean_df(df_withdraws, \"withdraw\")\n",
    "df_liquidates = clean_df(df_liquidates, \"liquidation\", wallet_field=\"liquidatee.id\")\n",
    "\n"
   ]
  },
  {
   "cell_type": "markdown",
   "id": "16aa5196",
   "metadata": {},
   "source": [
    " Rename action columns to a common name for merging"
   ]
  },
  {
   "cell_type": "code",
   "execution_count": 8,
   "id": "3a095779",
   "metadata": {},
   "outputs": [],
   "source": [
    "# Rename action columns to a common name for merging\n",
    "df_deposits = df_deposits.rename(columns={\"deposit_usd\": \"usd\", \"timestamp\": \"timestamp\", \"wallet\": \"wallet\"})\n",
    "df_borrows = df_borrows.rename(columns={\"borrow_usd\": \"usd\"})\n",
    "df_repays = df_repays.rename(columns={\"repay_usd\": \"usd\"})\n",
    "df_withdraws = df_withdraws.rename(columns={\"withdraw_usd\": \"usd\"})\n",
    "df_liquidates = df_liquidates.rename(columns={\"liquidation_usd\": \"usd\"})\n",
    "\n",
    "# Add action column\n",
    "df_deposits[\"action\"] = \"deposit\"\n",
    "df_borrows[\"action\"] = \"borrow\"\n",
    "df_repays[\"action\"] = \"repay\"\n",
    "df_withdraws[\"action\"] = \"withdraw\"\n",
    "df_liquidates[\"action\"] = \"liquidate\"\n",
    "\n",
    "# Combine all\n",
    "combined_df = pd.concat([\n",
    "    df_deposits,\n",
    "    df_borrows,\n",
    "    df_repays,\n",
    "    df_withdraws,\n",
    "    df_liquidates\n",
    "], ignore_index=True)\n"
   ]
  },
  {
   "cell_type": "markdown",
   "id": "bd305019",
   "metadata": {},
   "source": [
    "Getting summary of wallets"
   ]
  },
  {
   "cell_type": "code",
   "execution_count": 9,
   "id": "4ed3d146",
   "metadata": {},
   "outputs": [
    {
     "data": {
      "text/html": [
       "<div>\n",
       "<style scoped>\n",
       "    .dataframe tbody tr th:only-of-type {\n",
       "        vertical-align: middle;\n",
       "    }\n",
       "\n",
       "    .dataframe tbody tr th {\n",
       "        vertical-align: top;\n",
       "    }\n",
       "\n",
       "    .dataframe thead th {\n",
       "        text-align: right;\n",
       "    }\n",
       "</style>\n",
       "<table border=\"1\" class=\"dataframe\">\n",
       "  <thead>\n",
       "    <tr style=\"text-align: right;\">\n",
       "      <th></th>\n",
       "      <th>wallet</th>\n",
       "      <th>action</th>\n",
       "      <th>usd</th>\n",
       "    </tr>\n",
       "  </thead>\n",
       "  <tbody>\n",
       "    <tr>\n",
       "      <th>0</th>\n",
       "      <td>0x00000000af5a61acaf76190794e3fdf1289288a1</td>\n",
       "      <td>repay</td>\n",
       "      <td>6.256053e+04</td>\n",
       "    </tr>\n",
       "    <tr>\n",
       "      <th>1</th>\n",
       "      <td>0x00000000af5a61acaf76190794e3fdf1289288a1</td>\n",
       "      <td>withdraw</td>\n",
       "      <td>2.649560e+04</td>\n",
       "    </tr>\n",
       "    <tr>\n",
       "      <th>2</th>\n",
       "      <td>0x00000000b1786c9698c160d78232c78d6f6474fe</td>\n",
       "      <td>repay</td>\n",
       "      <td>2.888216e+04</td>\n",
       "    </tr>\n",
       "    <tr>\n",
       "      <th>3</th>\n",
       "      <td>0x000000aaee6a496aaf7b7452518781786313400f</td>\n",
       "      <td>borrow</td>\n",
       "      <td>2.695671e+06</td>\n",
       "    </tr>\n",
       "    <tr>\n",
       "      <th>4</th>\n",
       "      <td>0x000000aaee6a496aaf7b7452518781786313400f</td>\n",
       "      <td>deposit</td>\n",
       "      <td>7.708146e+05</td>\n",
       "    </tr>\n",
       "    <tr>\n",
       "      <th>...</th>\n",
       "      <td>...</td>\n",
       "      <td>...</td>\n",
       "      <td>...</td>\n",
       "    </tr>\n",
       "    <tr>\n",
       "      <th>28803</th>\n",
       "      <td>0xfff93f0af4ef0fecc48071cfaa9fd798cf216165</td>\n",
       "      <td>withdraw</td>\n",
       "      <td>1.231029e+02</td>\n",
       "    </tr>\n",
       "    <tr>\n",
       "      <th>28804</th>\n",
       "      <td>0xfff95dea424c0d7a25471982610a2485f302fb54</td>\n",
       "      <td>deposit</td>\n",
       "      <td>6.200050e+01</td>\n",
       "    </tr>\n",
       "    <tr>\n",
       "      <th>28805</th>\n",
       "      <td>0xffff2c1d5fa3f7dc16902c3f4dfc56b138474d3e</td>\n",
       "      <td>borrow</td>\n",
       "      <td>2.876790e+02</td>\n",
       "    </tr>\n",
       "    <tr>\n",
       "      <th>28806</th>\n",
       "      <td>0xffff2c1d5fa3f7dc16902c3f4dfc56b138474d3e</td>\n",
       "      <td>liquidate</td>\n",
       "      <td>4.033772e+00</td>\n",
       "    </tr>\n",
       "    <tr>\n",
       "      <th>28807</th>\n",
       "      <td>0xffff2c1d5fa3f7dc16902c3f4dfc56b138474d3e</td>\n",
       "      <td>repay</td>\n",
       "      <td>2.788284e+02</td>\n",
       "    </tr>\n",
       "  </tbody>\n",
       "</table>\n",
       "<p>28808 rows × 3 columns</p>\n",
       "</div>"
      ],
      "text/plain": [
       "                                           wallet     action           usd\n",
       "0      0x00000000af5a61acaf76190794e3fdf1289288a1      repay  6.256053e+04\n",
       "1      0x00000000af5a61acaf76190794e3fdf1289288a1   withdraw  2.649560e+04\n",
       "2      0x00000000b1786c9698c160d78232c78d6f6474fe      repay  2.888216e+04\n",
       "3      0x000000aaee6a496aaf7b7452518781786313400f     borrow  2.695671e+06\n",
       "4      0x000000aaee6a496aaf7b7452518781786313400f    deposit  7.708146e+05\n",
       "...                                           ...        ...           ...\n",
       "28803  0xfff93f0af4ef0fecc48071cfaa9fd798cf216165   withdraw  1.231029e+02\n",
       "28804  0xfff95dea424c0d7a25471982610a2485f302fb54    deposit  6.200050e+01\n",
       "28805  0xffff2c1d5fa3f7dc16902c3f4dfc56b138474d3e     borrow  2.876790e+02\n",
       "28806  0xffff2c1d5fa3f7dc16902c3f4dfc56b138474d3e  liquidate  4.033772e+00\n",
       "28807  0xffff2c1d5fa3f7dc16902c3f4dfc56b138474d3e      repay  2.788284e+02\n",
       "\n",
       "[28808 rows x 3 columns]"
      ]
     },
     "execution_count": 9,
     "metadata": {},
     "output_type": "execute_result"
    }
   ],
   "source": [
    "wallet_summary = combined_df.groupby([\"wallet\", \"action\"])[\"usd\"].sum().reset_index()\n",
    "wallet_summary"
   ]
  },
  {
   "cell_type": "markdown",
   "id": "fb05c617",
   "metadata": {},
   "source": [
    "Getting top Wallets"
   ]
  },
  {
   "cell_type": "code",
   "execution_count": 10,
   "id": "adb6b55e",
   "metadata": {},
   "outputs": [
    {
     "data": {
      "text/plain": [
       "wallet\n",
       "0x37acfef331e6063c8507c2a69c97b4f78c770a5a    7.488912e+07\n",
       "0x388b93c535b5c3ccdb14770516d7caf5590ed009    7.252060e+07\n",
       "0x716034c25d9fb4b38c837afe417b7f2b9af3e9ae    6.775487e+07\n",
       "0xb1adceddb2941033a090dd166a462fe1c2029484    6.623576e+07\n",
       "0xdf63be2e473ba04c26b1609e51d08cf0d78e0913    6.536593e+07\n",
       "0xc1852f917835a9f2f97112672bc5c8afd1f21dc3    6.316293e+07\n",
       "0x586e32930ac05127de429bd566eaa2758fcbd9bc    5.867612e+07\n",
       "0x909b443761bbd7fbb876ecde71a37e1433f6af6f    5.458294e+07\n",
       "0x3584ca77ba08bd8b3fe4762e60eb284e37696829    4.810243e+07\n",
       "0xceef57f6c40a7cb2392eaad101ee0440aa43ba42    4.530714e+07\n",
       "Name: usd, dtype: float64"
      ]
     },
     "execution_count": 10,
     "metadata": {},
     "output_type": "execute_result"
    }
   ],
   "source": [
    "top_wallets = combined_df.groupby(\"wallet\")[\"usd\"].sum().sort_values(ascending=False).head(10)\n",
    "top_wallets"
   ]
  },
  {
   "cell_type": "markdown",
   "id": "94685ca9",
   "metadata": {},
   "source": [
    "Accessing more data"
   ]
  },
  {
   "cell_type": "code",
   "execution_count": 11,
   "id": "eeb28041",
   "metadata": {},
   "outputs": [
    {
     "data": {
      "text/html": [
       "<div>\n",
       "<style scoped>\n",
       "    .dataframe tbody tr th:only-of-type {\n",
       "        vertical-align: middle;\n",
       "    }\n",
       "\n",
       "    .dataframe tbody tr th {\n",
       "        vertical-align: top;\n",
       "    }\n",
       "\n",
       "    .dataframe thead th {\n",
       "        text-align: right;\n",
       "    }\n",
       "</style>\n",
       "<table border=\"1\" class=\"dataframe\">\n",
       "  <thead>\n",
       "    <tr style=\"text-align: right;\">\n",
       "      <th></th>\n",
       "      <th>date</th>\n",
       "      <th>action</th>\n",
       "      <th>usd</th>\n",
       "    </tr>\n",
       "  </thead>\n",
       "  <tbody>\n",
       "    <tr>\n",
       "      <th>0</th>\n",
       "      <td>2019-05-07</td>\n",
       "      <td>borrow</td>\n",
       "      <td>5.944316e+02</td>\n",
       "    </tr>\n",
       "    <tr>\n",
       "      <th>1</th>\n",
       "      <td>2019-05-07</td>\n",
       "      <td>deposit</td>\n",
       "      <td>1.023940e+04</td>\n",
       "    </tr>\n",
       "    <tr>\n",
       "      <th>2</th>\n",
       "      <td>2019-05-08</td>\n",
       "      <td>borrow</td>\n",
       "      <td>4.157521e+03</td>\n",
       "    </tr>\n",
       "    <tr>\n",
       "      <th>3</th>\n",
       "      <td>2019-05-08</td>\n",
       "      <td>deposit</td>\n",
       "      <td>1.504912e+04</td>\n",
       "    </tr>\n",
       "    <tr>\n",
       "      <th>4</th>\n",
       "      <td>2019-05-08</td>\n",
       "      <td>repay</td>\n",
       "      <td>3.155575e+01</td>\n",
       "    </tr>\n",
       "    <tr>\n",
       "      <th>...</th>\n",
       "      <td>...</td>\n",
       "      <td>...</td>\n",
       "      <td>...</td>\n",
       "    </tr>\n",
       "    <tr>\n",
       "      <th>2477</th>\n",
       "      <td>2025-03-09</td>\n",
       "      <td>liquidate</td>\n",
       "      <td>2.415089e+03</td>\n",
       "    </tr>\n",
       "    <tr>\n",
       "      <th>2478</th>\n",
       "      <td>2025-03-10</td>\n",
       "      <td>liquidate</td>\n",
       "      <td>3.338488e+06</td>\n",
       "    </tr>\n",
       "    <tr>\n",
       "      <th>2479</th>\n",
       "      <td>2025-03-11</td>\n",
       "      <td>liquidate</td>\n",
       "      <td>1.101110e+06</td>\n",
       "    </tr>\n",
       "    <tr>\n",
       "      <th>2480</th>\n",
       "      <td>2025-03-12</td>\n",
       "      <td>liquidate</td>\n",
       "      <td>8.561762e+02</td>\n",
       "    </tr>\n",
       "    <tr>\n",
       "      <th>2481</th>\n",
       "      <td>2025-03-13</td>\n",
       "      <td>liquidate</td>\n",
       "      <td>2.953755e+03</td>\n",
       "    </tr>\n",
       "  </tbody>\n",
       "</table>\n",
       "<p>2482 rows × 3 columns</p>\n",
       "</div>"
      ],
      "text/plain": [
       "            date     action           usd\n",
       "0     2019-05-07     borrow  5.944316e+02\n",
       "1     2019-05-07    deposit  1.023940e+04\n",
       "2     2019-05-08     borrow  4.157521e+03\n",
       "3     2019-05-08    deposit  1.504912e+04\n",
       "4     2019-05-08      repay  3.155575e+01\n",
       "...          ...        ...           ...\n",
       "2477  2025-03-09  liquidate  2.415089e+03\n",
       "2478  2025-03-10  liquidate  3.338488e+06\n",
       "2479  2025-03-11  liquidate  1.101110e+06\n",
       "2480  2025-03-12  liquidate  8.561762e+02\n",
       "2481  2025-03-13  liquidate  2.953755e+03\n",
       "\n",
       "[2482 rows x 3 columns]"
      ]
     },
     "execution_count": 11,
     "metadata": {},
     "output_type": "execute_result"
    }
   ],
   "source": [
    "combined_df[\"date\"] = combined_df[\"timestamp\"].dt.date\n",
    "daily_volume = combined_df.groupby([\"date\", \"action\"])[\"usd\"].sum().reset_index()\n",
    "daily_volume"
   ]
  },
  {
   "cell_type": "markdown",
   "id": "565de50b",
   "metadata": {},
   "source": [
    "visualizing the transactions"
   ]
  },
  {
   "cell_type": "code",
   "execution_count": 12,
   "id": "443a1be8",
   "metadata": {},
   "outputs": [
    {
     "data": {
      "image/png": "[encoded data removed]",
      "text/plain": [
       "<Figure size 1200x600 with 1 Axes>"
      ]
     },
     "metadata": {},
     "output_type": "display_data"
    }
   ],
   "source": [
    "import seaborn as sns\n",
    "import matplotlib.pyplot as plt\n",
    "\n",
    "plt.figure(figsize=(12, 6))\n",
    "sns.lineplot(data=daily_volume, x=\"date\", y=\"usd\", hue=\"action\")\n",
    "plt.title(\"Daily USD Volume by Action\")\n",
    "plt.xticks(rotation=45)\n",
    "plt.tight_layout()\n",
    "plt.show()\n"
   ]
  },
  {
   "cell_type": "markdown",
   "id": "7aaca615",
   "metadata": {},
   "source": [
    "Adding 'action' column to each transaction DataFrame"
   ]
  },
  {
   "cell_type": "code",
   "execution_count": null,
   "id": "0a9e6848",
   "metadata": {},
   "outputs": [],
   "source": [
    "\n",
    "df_deposits[\"action\"] = \"deposit\"\n",
    "df_borrows[\"action\"] = \"borrow\"\n",
    "df_repays[\"action\"] = \"repay\"\n",
    "df_withdraws[\"action\"] = \"withdraw\"\n",
    "df_liquidates[\"action\"] = \"liquidation\"\n"
   ]
  },
  {
   "cell_type": "markdown",
   "id": "8fc8820d",
   "metadata": {},
   "source": [
    "Rename USD columns to a common name for merging"
   ]
  },
  {
   "cell_type": "code",
   "execution_count": null,
   "id": "107a0c42",
   "metadata": {},
   "outputs": [],
   "source": [
    "\n",
    "df_deposits = df_deposits.rename(columns={\"deposit_usd\": \"usd\"})\n",
    "df_borrows = df_borrows.rename(columns={\"borrow_usd\": \"usd\"})\n",
    "df_repays = df_repays.rename(columns={\"repay_usd\": \"usd\"})\n",
    "df_withdraws = df_withdraws.rename(columns={\"withdraw_usd\": \"usd\"})\n",
    "df_liquidates = df_liquidates.rename(columns={\"liquidation_usd\": \"usd\"})\n"
   ]
  },
  {
   "cell_type": "markdown",
   "id": "a2083d7d",
   "metadata": {},
   "source": [
    "Combine all transactions into one DataFrame"
   ]
  },
  {
   "cell_type": "code",
   "execution_count": null,
   "id": "69eee5d1",
   "metadata": {},
   "outputs": [],
   "source": [
    "\n",
    "combined_df = pd.concat([\n",
    "    df_deposits,\n",
    "    df_borrows,\n",
    "    df_repays,\n",
    "    df_withdraws,\n",
    "    df_liquidates\n",
    "])\n"
   ]
  },
  {
   "cell_type": "markdown",
   "id": "8ba131a3",
   "metadata": {},
   "source": [
    "Group and pivot by wallet"
   ]
  },
  {
   "cell_type": "code",
   "execution_count": null,
   "id": "4f9f98ec",
   "metadata": {},
   "outputs": [],
   "source": [
    "\n",
    "wallet_features = combined_df.pivot_table(\n",
    "    index=\"wallet\",\n",
    "    columns=\"action\",\n",
    "    values=\"usd\",\n",
    "    aggfunc=[\"count\", \"sum\"],\n",
    "    fill_value=0\n",
    ")\n"
   ]
  },
  {
   "cell_type": "markdown",
   "id": "1b202584",
   "metadata": {},
   "source": [
    "Flatten column names for easy access"
   ]
  },
  {
   "cell_type": "code",
   "execution_count": null,
   "id": "8d99ccee",
   "metadata": {},
   "outputs": [],
   "source": [
    "\n",
    "wallet_features.columns = ['_'.join(col).strip() for col in wallet_features.columns.values]\n",
    "wallet_features.reset_index(inplace=True)\n"
   ]
  },
  {
   "cell_type": "markdown",
   "id": "7cbe214d",
   "metadata": {},
   "source": [
    "Compute ratios to measure behavior"
   ]
  },
  {
   "cell_type": "code",
   "execution_count": null,
   "id": "5ce0b446",
   "metadata": {},
   "outputs": [],
   "source": [
    "\n",
    "wallet_features[\"repay_to_borrow_ratio\"] = wallet_features[\"sum_repay\"] / (wallet_features[\"sum_borrow\"] + 1)\n",
    "wallet_features[\"deposit_to_withdraw_ratio\"] = wallet_features[\"sum_deposit\"] / (wallet_features[\"sum_withdraw\"] + 1)\n",
    "wallet_features[\"liquidation_ratio\"] = wallet_features[\"count_liquidation\"] / (\n",
    "    wallet_features[\"count_borrow\"] + wallet_features[\"count_repay\"] + 1\n",
    ")\n"
   ]
  },
  {
   "cell_type": "markdown",
   "id": "b895061a",
   "metadata": {},
   "source": [
    "Cliping extreme ratios to prevent outliers from affecting scoring"
   ]
  },
  {
   "cell_type": "code",
   "execution_count": null,
   "id": "43d74204",
   "metadata": {},
   "outputs": [],
   "source": [
    "\n",
    "wallet_features[\"repay_to_borrow_ratio\"] = wallet_features[\"repay_to_borrow_ratio\"].clip(0, 10)\n",
    "wallet_features[\"deposit_to_withdraw_ratio\"] = wallet_features[\"deposit_to_withdraw_ratio\"].clip(0, 10)\n",
    "wallet_features[\"liquidation_ratio\"] = wallet_features[\"liquidation_ratio\"].clip(0, 1)\n"
   ]
  },
  {
   "cell_type": "markdown",
   "id": "b39ab626",
   "metadata": {},
   "source": [
    "Doing Normalization Using QuantileTransformer"
   ]
  },
  {
   "cell_type": "code",
   "execution_count": 21,
   "id": "0120c2c2",
   "metadata": {},
   "outputs": [],
   "source": [
    "from sklearn.preprocessing import QuantileTransformer\n",
    "\n",
    "scaler = QuantileTransformer(output_distribution='uniform')\n",
    "\n",
    "wallet_features[[\"rtb\", \"dtw\", \"lr\", \"sd\", \"sr\"]] = scaler.fit_transform(wallet_features[[\n",
    "    \"repay_to_borrow_ratio\",\n",
    "    \"deposit_to_withdraw_ratio\",\n",
    "    \"liquidation_ratio\",\n",
    "    \"sum_deposit\",\n",
    "    \"sum_repay\"\n",
    "]])\n"
   ]
  },
  {
   "cell_type": "markdown",
   "id": "f81a2148",
   "metadata": {},
   "source": [
    "Compute custom score using weighted formula"
   ]
  },
  {
   "cell_type": "code",
   "execution_count": null,
   "id": "5ab4f37a",
   "metadata": {},
   "outputs": [],
   "source": [
    "\n",
    "wallet_features[\"score\"] = (\n",
    "    25 * wallet_features[\"rtb\"] +\n",
    "    25 * wallet_features[\"dtw\"] -\n",
    "    25 * wallet_features[\"lr\"] +\n",
    "    12.5 * wallet_features[\"sd\"] +\n",
    "    12.5 * wallet_features[\"sr\"]\n",
    ")\n"
   ]
  },
  {
   "cell_type": "markdown",
   "id": "7479561c",
   "metadata": {},
   "source": [
    " Scale score between 0 and 100"
   ]
  },
  {
   "cell_type": "code",
   "execution_count": null,
   "id": "7ee79615",
   "metadata": {},
   "outputs": [],
   "source": [
    "\n",
    "min_score = wallet_features[\"score\"].min()\n",
    "max_score = wallet_features[\"score\"].max()\n",
    "wallet_features[\"normalized_score\"] = ((wallet_features[\"score\"] - min_score) / (max_score - min_score)) * 100\n"
   ]
  },
  {
   "cell_type": "markdown",
   "id": "5ddb04e5",
   "metadata": {},
   "source": [
    "Visualize score distribution"
   ]
  },
  {
   "cell_type": "code",
   "execution_count": null,
   "id": "1ac2d91b",
   "metadata": {},
   "outputs": [
    {
     "data": {
      "image/png": "[encoded data removed]",
      "text/plain": [
       "<Figure size 640x480 with 1 Axes>"
      ]
     },
     "metadata": {},
     "output_type": "display_data"
    }
   ],
   "source": [
    "import matplotlib.pyplot as plt\n",
    "\n",
    "\n",
    "wallet_features[\"normalized_score\"].hist(bins=50)\n",
    "plt.title(\"Distribution of Wallet Credit Scores\")\n",
    "plt.xlabel(\"Normalized Credit Score\")\n",
    "plt.ylabel(\"Number of Wallets\")\n",
    "plt.grid(True)\n",
    "plt.show()\n"
   ]
  },
  {
   "cell_type": "markdown",
   "id": "318a10ee",
   "metadata": {},
   "source": []
  },
  {
   "cell_type": "code",
   "execution_count": 25,
   "id": "df6ff76f",
   "metadata": {},
   "outputs": [
    {
     "data": {
      "text/html": [
       "<div>\n",
       "<style scoped>\n",
       "    .dataframe tbody tr th:only-of-type {\n",
       "        vertical-align: middle;\n",
       "    }\n",
       "\n",
       "    .dataframe tbody tr th {\n",
       "        vertical-align: top;\n",
       "    }\n",
       "\n",
       "    .dataframe thead th {\n",
       "        text-align: right;\n",
       "    }\n",
       "</style>\n",
       "<table border=\"1\" class=\"dataframe\">\n",
       "  <thead>\n",
       "    <tr style=\"text-align: right;\">\n",
       "      <th></th>\n",
       "      <th>wallet</th>\n",
       "      <th>normalized_score</th>\n",
       "    </tr>\n",
       "  </thead>\n",
       "  <tbody>\n",
       "    <tr>\n",
       "      <th>4937</th>\n",
       "      <td>0x49b357c9acaa84a0cb978571b642b825e964b2cc</td>\n",
       "      <td>100.000000</td>\n",
       "    </tr>\n",
       "    <tr>\n",
       "      <th>3809</th>\n",
       "      <td>0x389135c984febdbb310adaf23a690dc28c8fa62b</td>\n",
       "      <td>99.974744</td>\n",
       "    </tr>\n",
       "    <tr>\n",
       "      <th>6739</th>\n",
       "      <td>0x6555e1cc97d3cba6eaddebbcd7ca51d75771e0b8</td>\n",
       "      <td>99.969062</td>\n",
       "    </tr>\n",
       "    <tr>\n",
       "      <th>4220</th>\n",
       "      <td>0x3f3e7cd8be447aeb65c05eb6596b03e8c8627803</td>\n",
       "      <td>99.863260</td>\n",
       "    </tr>\n",
       "    <tr>\n",
       "      <th>3480</th>\n",
       "      <td>0x339cec7dfec9c95bae4e445e4af87de8c89313cf</td>\n",
       "      <td>99.685149</td>\n",
       "    </tr>\n",
       "    <tr>\n",
       "      <th>12697</th>\n",
       "      <td>0xbc0c33fff2888a499a519a641a91f9d7dd270b71</td>\n",
       "      <td>99.604826</td>\n",
       "    </tr>\n",
       "    <tr>\n",
       "      <th>4774</th>\n",
       "      <td>0x4758a12fb01dc7cad5741246b9e2eb59ae1ef38b</td>\n",
       "      <td>99.572214</td>\n",
       "    </tr>\n",
       "    <tr>\n",
       "      <th>8360</th>\n",
       "      <td>0x7db7da086318462a46327b8f2d46f457008cc111</td>\n",
       "      <td>99.557426</td>\n",
       "    </tr>\n",
       "    <tr>\n",
       "      <th>1055</th>\n",
       "      <td>0x0fccef1c29deddb1e2a007ee9c1edf63149aa6b3</td>\n",
       "      <td>99.428216</td>\n",
       "    </tr>\n",
       "    <tr>\n",
       "      <th>12721</th>\n",
       "      <td>0xbc77738aa2ede049edac45a8a9a443c5415e6b7a</td>\n",
       "      <td>99.384577</td>\n",
       "    </tr>\n",
       "  </tbody>\n",
       "</table>\n",
       "</div>"
      ],
      "text/plain": [
       "                                           wallet  normalized_score\n",
       "4937   0x49b357c9acaa84a0cb978571b642b825e964b2cc        100.000000\n",
       "3809   0x389135c984febdbb310adaf23a690dc28c8fa62b         99.974744\n",
       "6739   0x6555e1cc97d3cba6eaddebbcd7ca51d75771e0b8         99.969062\n",
       "4220   0x3f3e7cd8be447aeb65c05eb6596b03e8c8627803         99.863260\n",
       "3480   0x339cec7dfec9c95bae4e445e4af87de8c89313cf         99.685149\n",
       "12697  0xbc0c33fff2888a499a519a641a91f9d7dd270b71         99.604826\n",
       "4774   0x4758a12fb01dc7cad5741246b9e2eb59ae1ef38b         99.572214\n",
       "8360   0x7db7da086318462a46327b8f2d46f457008cc111         99.557426\n",
       "1055   0x0fccef1c29deddb1e2a007ee9c1edf63149aa6b3         99.428216\n",
       "12721  0xbc77738aa2ede049edac45a8a9a443c5415e6b7a         99.384577"
      ]
     },
     "execution_count": 25,
     "metadata": {},
     "output_type": "execute_result"
    }
   ],
   "source": [
    "# Get top 1000 wallets by score\n",
    "top_1000 = wallet_features.sort_values(by=\"score\", ascending=False).head(1000)[[\"wallet\", \"normalized_score\"]]\n",
    "top_1000.head(10)\n"
   ]
  },
  {
   "cell_type": "code",
   "execution_count": 26,
   "id": "a8ebb2e1",
   "metadata": {},
   "outputs": [
    {
     "data": {
      "image/png": "[encoded data removed]",
      "text/plain": [
       "<Figure size 800x500 with 1 Axes>"
      ]
     },
     "metadata": {},
     "output_type": "display_data"
    }
   ],
   "source": [
    "import matplotlib.pyplot as plt\n",
    "\n",
    "plt.figure(figsize=(8, 5))\n",
    "wallet_features[\"normalized_score\"].hist(bins=50, color='skyblue', edgecolor='black')\n",
    "plt.title(\"Distribution of Normalized Wallet Credit Scores\")\n",
    "plt.xlabel(\"Credit Score (0 to 100)\")\n",
    "plt.ylabel(\"Number of Wallets\")\n",
    "plt.grid(True)\n",
    "plt.show()\n"
   ]
  },
  {
   "cell_type": "markdown",
   "id": "bc03d075",
   "metadata": {},
   "source": [
    "checking skewness"
   ]
  },
  {
   "cell_type": "code",
   "execution_count": 27,
   "id": "eda27143",
   "metadata": {},
   "outputs": [
    {
     "name": "stdout",
     "output_type": "stream",
     "text": [
      "Skewness of normalized_score: -0.1585\n"
     ]
    }
   ],
   "source": [
    "from scipy.stats import skew\n",
    "\n",
    "score_skewness = skew(wallet_features[\"normalized_score\"])\n",
    "print(f\"Skewness of normalized_score: {score_skewness:.4f}\")\n"
   ]
  },
  {
   "cell_type": "markdown",
   "id": "1f97b958",
   "metadata": {},
   "source": [
    "This distribution is very mildly left-skewed, but it’s well within acceptable range for most ML models and analysis tasks "
   ]
  },
  {
   "cell_type": "markdown",
   "id": "4d8d248d",
   "metadata": {},
   "source": [
    "saving the model using.pkl file for using further"
   ]
  },
  {
   "cell_type": "code",
   "execution_count": 29,
   "id": "570a295c",
   "metadata": {},
   "outputs": [],
   "source": [
    "import pickle\n",
    "\n",
    "# Save the full DataFrame (with normalized_score) or just the model if applicable\n",
    "with open(\"wallet_scoring.pkl\", \"wb\") as f:\n",
    "    pickle.dump(wallet_features, f)\n"
   ]
  }
 ],
 "metadata": {
  "kernelspec": {
   "display_name": "Python 3",
   "language": "python",
   "name": "python3"
  },
  "language_info": {
   "codemirror_mode": {
    "name": "ipython",
    "version": 3
   },
   "file_extension": ".py",
   "mimetype": "text/x-python",
   "name": "python",
   "nbconvert_exporter": "python",
   "pygments_lexer": "ipython3",
   "version": "3.10.0"
  }
 },
 "nbformat": 4,
 "nbformat_minor": 5
}
